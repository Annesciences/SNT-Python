{
 "cells": [
  {
   "cell_type": "markdown",
   "metadata": {},
   "source": [
    "# <center>Activité 4 : Créer une carte avec folium </center>\n",
    "Un notebook Jupyter est composé de deux types de cellules :<br>\n",
    "Des cellules contenant du <b>texte</b> qu'il est nécessaire <b>de lire pour suivre correctement les consignes</b> ;<br>\n",
    "Des cellules contenant du <b>code Python</b> qu'il est nécessaire <b>d'éxécuter dans l'ordre d'apparition</b>.\n",
    "<br>\n",
    "<b>Pour exécuter une cellule sélectionnée</b> (encadrée en vert), il faut cliquer :<br>\n",
    "sur le bouton \"Exécuter\" situé à côté de la cellule<br><img src=\"Jupyter_Executer.bis.jpg\">ou sur le bouton \"Exécuter\" dans le bandeau supérieur.<center><img src=\"Jupyter_Executer.jpg\"></center><br>\n",
    "\n",
    "##  <font color='green'>Travail à faire : </b> Exécuter cette ligne de code en suivant les indications ci-dessus. Du texte est affecté à la variable \"a\".</font>"
   ]
  },
  {
   "cell_type": "code",
   "execution_count": 1,
   "metadata": {},
   "outputs": [],
   "source": [
    "a=\"Hello World\""
   ]
  },
  {
   "cell_type": "markdown",
   "metadata": {},
   "source": [
    "## Sur la gauche d'une cellule contenant du code Python, il y a l'indication <b>Entrée [&#160;&#160;]</b><br>\n",
    "<b>Entrée [&#160;&#160;]</b> signifie que la cellule n'a pas été exécutée ;<br>\n",
    "<b>Entrée [*]</b> signifie que la cellule est en cours d'exécution. Soit il faut une action de votre part (saisie d'une valeur dans un <b>Input</b>, soit il faut donc patienter quelques secondes pour que tout le code s'exécute ;<br>\n",
    "<b>Entrée [1]</b> signifie que la cellule a été exécutée au rang 1.<br>\n",
    "<br>\n",
    "\n",
    "## <font color='green'>Travail à faire :  Exécuter cette ligne de code qui permet d'afficher la valeur de la variable \"a\".</font>\n"
   ]
  },
  {
   "cell_type": "code",
   "execution_count": null,
   "metadata": {},
   "outputs": [],
   "source": [
    "print(a)"
   ]
  },
  {
   "cell_type": "markdown",
   "metadata": {},
   "source": [
    "<center><font size=\"5\">Ne modifier que la partie du code contenant ---A COMPLETER---</font></center>\n",
    "</div>"
   ]
  },
  {
   "cell_type": "markdown",
   "metadata": {},
   "source": [
    "## **L'objectif de cette activité est de créer une carte à l'aide d'un code python**"
   ]
  },
  {
   "cell_type": "markdown",
   "metadata": {},
   "source": [
    "Nous allons utiliser les cartes proposées par Open Street Map et le langage Python afin de générer des cartes personnalisées. Plus exactement, nous allons utiliser une bibliothèque Python nommée Folium. Une bibliothèque Python permet de rajouter des fonctionnalités au langage de base.\n",
    "Folium va donc nous permettre de créer nos propres cartes à partir des cartes proposées par Open Street Map.\n"
   ]
  },
  {
   "cell_type": "markdown",
   "metadata": {},
   "source": [
    "## I. Obtenir une carte"
   ]
  },
  {
   "cell_type": "markdown",
   "metadata": {},
   "source": [
    "## <font color='green'> Travail à faire : Exécuter le code ci-dessous pour faire la carte\n",
    "<br></font>"
   ]
  },
  {
   "cell_type": "code",
   "execution_count": null,
   "metadata": {},
   "outputs": [],
   "source": [
    "!pip install folium\n",
    "import folium\n",
    "c = folium.Map(location=[ 43.6000, 1.433333])\n",
    "c"
   ]
  },
  {
   "cell_type": "markdown",
   "metadata": {},
   "source": [
    "## II. Comprendre les lignes de codes : "
   ]
  },
  {
   "cell_type": "markdown",
   "metadata": {},
   "source": [
    "## <font color='green'>Travail à faire : Pour chacune des lignes suivantes, dire ce qu’elle permet de faire.\n",
    "<br></font>\n"
   ]
  },
  {
   "cell_type": "markdown",
   "metadata": {},
   "source": [
    "import folium : "
   ]
  },
  {
   "cell_type": "markdown",
   "metadata": {},
   "source": [
    "folium.Map(location=[ 43.6000, 1.433333]) :\n"
   ]
  },
  {
   "cell_type": "markdown",
   "metadata": {},
   "source": [
    "## <font color='green'>Travail à faire : Modifier le programme pour qu'il génère une carte centrée sur la ville de Cannes (la longitude et la latitude d'une ville sont facilement trouvables sur le web).\n",
    "<br></font>"
   ]
  },
  {
   "cell_type": "code",
   "execution_count": null,
   "metadata": {},
   "outputs": [],
   "source": [
    "import folium\n",
    "c = folium.Map(location=[ #à compléter, #à compléter])\n",
    "c"
   ]
  },
  {
   "cell_type": "markdown",
   "metadata": {},
   "source": [
    "## III. ZOOM"
   ]
  },
  {
   "cell_type": "markdown",
   "metadata": {},
   "source": [
    "\n",
    "Il est possible d'obtenir un niveau de zoom différent en ajoutant un paramètre « zoom_start ».\n"
   ]
  },
  {
   "cell_type": "code",
   "execution_count": null,
   "metadata": {},
   "outputs": [],
   "source": [
    "import folium\n",
    "\n",
    "c= folium.Map(location=[43.6000, 1.433333],zoom_start=15)\n",
    "\n",
    "c"
   ]
  },
  {
   "cell_type": "markdown",
   "metadata": {},
   "source": [
    "## <font color='green'>Travail à faire :  Modifier la valeur associée à zoom_start. Que se passe-t-il ?<br></font>\n"
   ]
  },
  {
   "cell_type": "markdown",
   "metadata": {},
   "source": [
    "Réponse : "
   ]
  },
  {
   "cell_type": "markdown",
   "metadata": {},
   "source": [
    "## IV. Insérer un marqueur"
   ]
  },
  {
   "cell_type": "markdown",
   "metadata": {},
   "source": [
    "Afin de vraiment personnaliser la carte, il est possible d'ajouter des marqueurs sur la carte.\n",
    "\n",
    "Un marqueur sera simplement défini par ses coordonnées (latitude et longitude).\n",
    "\n"
   ]
  },
  {
   "cell_type": "code",
   "execution_count": null,
   "metadata": {},
   "outputs": [],
   "source": [
    "import folium\n",
    "\n",
    "c=folium.Map(location=[43.634, 1.433333],zoom_start=20) \n",
    "folium.Marker([43.633739, 1.433245]).add_to(c) \n",
    "c"
   ]
  },
  {
   "cell_type": "markdown",
   "metadata": {},
   "source": [
    "Il est possible d'ajouter plusieurs marqueurs sur une même carte, il suffira d'ajouter autant de ligne « folium.Marker([latitude, longitude]).add_to(c) » que de marqueurs désirés. "
   ]
  },
  {
   "cell_type": "markdown",
   "metadata": {},
   "source": [
    "\n",
    "## <font color='green'> Travail à faire :  En ajouter d'autres sur la carte.<br> </font>\n"
   ]
  },
  {
   "cell_type": "markdown",
   "metadata": {},
   "source": [
    "## V. Nommer un marqueur"
   ]
  },
  {
   "cell_type": "markdown",
   "metadata": {},
   "source": [
    "Il est possible d'associer une information à un marqueur en ajoutant le paramètre « popup ».\n"
   ]
  },
  {
   "cell_type": "code",
   "execution_count": null,
   "metadata": {},
   "outputs": [],
   "source": [
    "import folium\n",
    "\n",
    "c= folium.Map(location=[43.634, 1.433333],zoom_start=20)\n",
    "\n",
    "folium.Marker([43.633739, 1.433245],popup=\"La Romantica\").add_to(c)\n",
    "c"
   ]
  },
  {
   "cell_type": "markdown",
   "metadata": {},
   "source": [
    "## VI. Application"
   ]
  },
  {
   "cell_type": "markdown",
   "metadata": {},
   "source": [
    "## <font color='green'>Travail à faire : Réaliser une carte avec des marqueurs choisis autour du lycée.<br></font>\n",
    "\n"
   ]
  },
  {
   "cell_type": "code",
   "execution_count": null,
   "metadata": {},
   "outputs": [],
   "source": [
    "import folium\n",
    "#Compléter la suite du programme."
   ]
  }
 ],
 "metadata": {
  "kernelspec": {
   "display_name": "Python 3",
   "language": "python",
   "name": "python3"
  },
  "language_info": {
   "codemirror_mode": {
    "name": "ipython",
    "version": 3
   },
   "file_extension": ".py",
   "mimetype": "text/x-python",
   "name": "python",
   "nbconvert_exporter": "python",
   "pygments_lexer": "ipython3",
   "version": "3.8.3"
  }
 },
 "nbformat": 4,
 "nbformat_minor": 4
}
